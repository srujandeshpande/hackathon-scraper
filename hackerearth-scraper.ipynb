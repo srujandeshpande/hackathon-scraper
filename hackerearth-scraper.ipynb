{
 "cells": [
  {
   "cell_type": "code",
   "execution_count": 482,
   "metadata": {},
   "outputs": [],
   "source": [
    "#imports\n",
    "\n",
    "import requests \n",
    "from bs4 import BeautifulSoup as bs"
   ]
  },
  {
   "cell_type": "code",
   "execution_count": 483,
   "metadata": {},
   "outputs": [],
   "source": [
    "#defining which url to parse thru\n",
    "url = \"https://www.hackerearth.com/challenges/\""
   ]
  },
  {
   "cell_type": "code",
   "execution_count": 484,
   "metadata": {},
   "outputs": [],
   "source": [
    "#setting up beautifulsoup\n",
    "page = requests.get(url)\n",
    "soup = bs(page.content,'html.parser')"
   ]
  },
  {
   "cell_type": "code",
   "execution_count": 485,
   "metadata": {},
   "outputs": [],
   "source": [
    "#contents of the page\n",
    "#print(soup.prettify())"
   ]
  },
  {
   "cell_type": "code",
   "execution_count": 486,
   "metadata": {},
   "outputs": [],
   "source": [
    "#to find all our cards, ie where our challenges are defined\n",
    "b = soup.find_all('div',{\"class\": \"challenge-card-modern\"})"
   ]
  },
  {
   "cell_type": "code",
   "execution_count": 487,
   "metadata": {},
   "outputs": [],
   "source": [
    "#initialising a dictionary to store info as follows\n",
    "#challenges = {serial-id : [hackathon-title, hackathon-type, hackathon-by, hackathon-url, reg_start, reg_end, team_size]}\n",
    "\n",
    "challenges = dict()\n"
   ]
  },
  {
   "cell_type": "code",
   "execution_count": 488,
   "metadata": {},
   "outputs": [],
   "source": [
    "#Useful info from the scraped contents\n",
    "\n",
    "count = 0\n",
    "for i in b:\n",
    "    challenge_title = i.find('span',class_ = 'challenge-list-title')\n",
    "    challenge_type = i.find('div',class_ = 'challenge-type')\n",
    "    challenge_by = i.find('div',class_ = 'company-details ellipsis')\n",
    "    challenge_url = i.find('a',class_ = 'challenge-card-link')\n",
    "    \n",
    "    if  challenge_title:\n",
    "        \n",
    "        challenge_title = challenge_title.text\n",
    "        challenge_type = challenge_type.text.strip()\n",
    "        if challenge_type == \"CodeArena\":\n",
    "            continue\n",
    "        challenge_url = challenge_url['href']\n",
    "        if not challenge_url.startswith('https'):\n",
    "            challenge_url = \"https://www.hackerearth.com\"+challenge_url\n",
    "        challenge_by = challenge_by.text.strip()\n",
    "        count+=1\n",
    "        challenges.update({count : [challenge_title, challenge_type, challenge_by, challenge_url]})\n"
   ]
  },
  {
   "cell_type": "code",
   "execution_count": 489,
   "metadata": {},
   "outputs": [],
   "source": [
    "#to find start and end date.    "
   ]
  },
  {
   "cell_type": "code",
   "execution_count": 490,
   "metadata": {
    "scrolled": true
   },
   "outputs": [],
   "source": [
    "#x = [reg_start, reg_end, team_size]\n",
    "# scraping thru each site url and then getting further info from that\n",
    "\n",
    "for i in challenges:\n",
    "    url = challenges[i][3]\n",
    "    challenge_page = requests.get(url)\n",
    "    soup = bs(challenge_page.content,'html.parser')\n",
    "    x = []\n",
    "    reg_start = None\n",
    "    reg_end = None\n",
    "    team_size = '1'\n",
    "    if challenges[i][1]==\"HACKATHON\":\n",
    "        x= soup.find_all('div',class_=\"time-div\")\n",
    "        reg_start = x[0].find_all('div')[1].text.strip()\n",
    "        reg_end = x[1].find_all('div')[1].text.strip()\n",
    "\n",
    "    else:\n",
    "        x= soup.find_all('span',class_=\"timing-text\")\n",
    "        reg_start = x[0].text\n",
    "        reg_end = x[1].text\n",
    "        \n",
    "    x= soup.find_all('span',class_=\"event-team-size\")\n",
    "    if x:\n",
    "        team_size = x[0].strong.text.strip()\n",
    "    challenges[i]+=[reg_start,reg_end,team_size]"
   ]
  },
  {
   "cell_type": "code",
   "execution_count": 491,
   "metadata": {},
   "outputs": [
    {
     "name": "stdout",
     "output_type": "stream",
     "text": [
      "1 ['Microsoft Azure Hackathon', 'HACKATHON', 'Microsoft', 'https://www.hackerearth.com/challenges/hackathon/microsoft-azure-java-hackathon/', '02 Mar 2020, 10:00 AM IST', '19 Apr 2020, 11:55 PM IST', '1 - 5']\n",
      "2 ['HCL ML Hiring Challenge | Developer jobs in Noida', 'HIRING', 'HCL TECHNOLOGIES LIMITED', 'https://www.hackerearth.com/challenges/hiring/hcl-ml-hiring-2020/', 'Mar 16, 07:30 AM ', 'Mar 29, 01:25 PM ', '1']\n",
      "3 ['HackerEarth Deep Learning Challenge—Auto-tag Images of the Gala', 'MACHINE LEARNING', 'HackerEarth', 'https://www.hackerearth.com/challenges/competitive/hackerearth-deep-learning-challenge-auto-tag-images-gala/', 'Feb 21, 09:00 PM ', 'Apr 06, 09:00 PM ', '1']\n",
      "4 ['World Music Hackathon 2.0', 'HACKATHON', 'HackerEarth', 'https://www.hackerearth.com/challenges/hackathon/world-music-hackathon-20/', 'Mar 15, 2020 03:00 PM IST', 'Apr 15, 2020 12:00 AM IST', '1 - 4']\n",
      "5 [\"International Women's Hackathon 2020\", 'HACKATHON', 'HackerEarth', 'https://www.hackerearth.com/challenges/hackathon/international-womens-hackathon-2020/', 'Mar 08, 2020 06:30 AM EDT', 'Apr 30, 2020 10:00 AM EDT', '1 - 4']\n",
      "6 ['HackerEarth Deep Learning challenge: Detect emotions of your favorite toons', 'MACHINE LEARNING', 'HackerEarth', 'https://www.hackerearth.com/challenges/competitive/hackerearth-deep-learning-challenge-emotion-detection-tom-jerry-cartoon/', 'Mar 16, 09:00 PM ', 'Apr 30, 09:00 PM ', '1']\n",
      "7 ['Problem Setter Challenge', 'HACKATHON', 'HackerEarth', 'https://www.hackerearth.com/challenges/hackathon/setter-challenge/', '25 Feb 2020, 06:00 PM IST', '02 May 2020, 11:55 PM IST', '1']\n",
      "8 ['Coding with THE STARS -  The Arista Hackathon', 'HIRING', 'Arista Networks', 'https://www.hackerearth.com/challenges/hiring/arista-networks-developer-hiring-challenge-2020/', 'Mar 20, 05:30 AM ', 'Mar 22, 01:25 PM ', '1']\n",
      "9 ['Wissen Java Developer Hiring Challenge', 'HIRING', 'Wissen Technology Pvt ltd', 'https://www.hackerearth.com/challenges/hiring/wissen-software-developer-hiring-challenge-2020/', 'Mar 20, 05:30 AM ', 'Mar 22, 01:25 PM ', '1']\n",
      "10 ['Vimeo Full Stack Developer Hiring Challenge', 'HIRING', 'Vimeo Tech', 'https://www.hackerearth.com/challenges/hiring/vimeo-full-stack-developer-hiring-challenge-2020/', 'Mar 20, 05:30 AM ', 'Mar 22, 01:25 PM ', '1']\n",
      "11 ['Haskell@Juspay Hiring challenge for Freshers (2020 Graduates)', 'HIRING', 'Juspay', 'https://www.hackerearth.com/challenges/hiring/haskelljuspay-hiring-challenge-for-freshers-2020-graduates/', 'Mar 21, 01:30 AM ', 'Mar 21, 07:30 AM ', '1']\n",
      "12 [\"March Circuits '20\", 'RATED', 'HackerEarth', 'https://www.hackerearth.com/challenges/competitive/march-circuits-20/', 'Mar 21, 10:30 AM ', 'Mar 28, 10:30 AM ', '1']\n",
      "13 ['Microsoft Developer hiring challenge', 'HIRING', 'Microsoft', 'https://www.hackerearth.com/challenges/hiring/microsoft-azure-hiring-2020/', 'Mar 27, 05:30 AM ', 'Apr 05, 01:25 PM ', '1']\n",
      "14 ['Esko Software Engineer Hiring Challenge', 'HIRING', 'Esko Graphics India Pvt. Ltd.', 'https://www.hackerearth.com/challenges/hiring/esko-software-engineer-hiring-challenge-2020/', 'Mar 27, 05:30 AM ', 'Mar 29, 01:25 PM ', '1']\n",
      "15 ['Numerator Fullstack developer hiring challenge', 'HIRING', 'Numerator', 'https://www.hackerearth.com/challenges/hiring/numerator-fullstack-developer-hiring-challenge/', 'Mar 27, 05:30 AM ', 'Mar 29, 01:25 PM ', '1']\n",
      "16 ['CGI Campus Challenge 2020', 'HIRING', 'CGI Information Systems and Management Pvt Ltd', 'https://www.hackerearth.com/challenges/hiring/cgi-campus-challenge-2020/', 'Mar 29, 01:30 AM ', 'Mar 29, 07:30 AM ', '1']\n",
      "17 ['Cipher Combat 2.0', 'HACKATHON', 'HackerEarth', 'https://www.hackerearth.com/challenges/hackathon/cipher-combat-20/', 'Apr 04, 2020 12:00 PM IST', 'Apr 04, 2020 11:55 PM IST', '1']\n"
     ]
    }
   ],
   "source": [
    "#displaying results\n",
    "for i in challenges:\n",
    "    print(i,challenges[i])\n",
    "    #pass"
   ]
  },
  {
   "cell_type": "code",
   "execution_count": 492,
   "metadata": {},
   "outputs": [],
   "source": [
    "#<CODE FOR WRITING INTO A CSV FILE>\n",
    "\n",
    "    \n"
   ]
  }
 ],
 "metadata": {
  "kernelspec": {
   "display_name": "Python 3",
   "language": "python",
   "name": "python3"
  },
  "language_info": {
   "codemirror_mode": {
    "name": "ipython",
    "version": 3
   },
   "file_extension": ".py",
   "mimetype": "text/x-python",
   "name": "python",
   "nbconvert_exporter": "python",
   "pygments_lexer": "ipython3",
   "version": "3.7.6"
  }
 },
 "nbformat": 4,
 "nbformat_minor": 4
}
